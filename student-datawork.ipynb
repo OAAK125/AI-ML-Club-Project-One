{
 "cells": [
  {
   "cell_type": "code",
   "execution_count": 1,
   "id": "8a763f06",
   "metadata": {
    "_cell_guid": "b1076dfc-b9ad-4769-8c92-a6c4dae69d19",
    "_uuid": "8f2839f25d086af736a60e9eeb907d3b93b6e0e5",
    "execution": {
     "iopub.execute_input": "2024-09-11T20:35:32.032292Z",
     "iopub.status.busy": "2024-09-11T20:35:32.031832Z",
     "iopub.status.idle": "2024-09-11T20:35:33.017448Z",
     "shell.execute_reply": "2024-09-11T20:35:33.016245Z"
    },
    "papermill": {
     "duration": 1.002076,
     "end_time": "2024-09-11T20:35:33.020744",
     "exception": false,
     "start_time": "2024-09-11T20:35:32.018668",
     "status": "completed"
    },
    "tags": []
   },
   "outputs": [
    {
     "name": "stdout",
     "output_type": "stream",
     "text": [
      "/kaggle/input/student-performance-multiple-linear-regression/Student_Performance.csv\n"
     ]
    }
   ],
   "source": [
    "# This Python 3 environment comes with many helpful analytics libraries installed\n",
    "# It is defined by the kaggle/python Docker image: https://github.com/kaggle/docker-python\n",
    "# For example, here's several helpful packages to load\n",
    "\n",
    "import numpy as np # linear algebra\n",
    "import pandas as pd # data processing, CSV file I/O (e.g. pd.read_csv)\n",
    "\n",
    "# Input data files are available in the read-only \"../input/\" directory\n",
    "# For example, running this (by clicking run or pressing Shift+Enter) will list all files under the input directory\n",
    "\n",
    "import os\n",
    "for dirname, _, filenames in os.walk('/kaggle/input'):\n",
    "    for filename in filenames:\n",
    "        print(os.path.join(dirname, filename))\n",
    "\n",
    "# You can write up to 20GB to the current directory (/kaggle/working/) that gets preserved as output when you create a version using \"Save & Run All\" \n",
    "# You can also write temporary files to /kaggle/temp/, but they won't be saved outside of the current session"
   ]
  },
  {
   "cell_type": "markdown",
   "id": "b5a4690b",
   "metadata": {
    "papermill": {
     "duration": 0.010607,
     "end_time": "2024-09-11T20:35:33.042659",
     "exception": false,
     "start_time": "2024-09-11T20:35:33.032052",
     "status": "completed"
    },
    "tags": []
   },
   "source": [
    "# **Read and load data**"
   ]
  },
  {
   "cell_type": "code",
   "execution_count": 2,
   "id": "6cc91f5d",
   "metadata": {
    "execution": {
     "iopub.execute_input": "2024-09-11T20:35:33.067052Z",
     "iopub.status.busy": "2024-09-11T20:35:33.065922Z",
     "iopub.status.idle": "2024-09-11T20:35:33.127513Z",
     "shell.execute_reply": "2024-09-11T20:35:33.126296Z"
    },
    "papermill": {
     "duration": 0.076805,
     "end_time": "2024-09-11T20:35:33.130403",
     "exception": false,
     "start_time": "2024-09-11T20:35:33.053598",
     "status": "completed"
    },
    "tags": []
   },
   "outputs": [
    {
     "data": {
      "text/html": [
       "<div>\n",
       "<style scoped>\n",
       "    .dataframe tbody tr th:only-of-type {\n",
       "        vertical-align: middle;\n",
       "    }\n",
       "\n",
       "    .dataframe tbody tr th {\n",
       "        vertical-align: top;\n",
       "    }\n",
       "\n",
       "    .dataframe thead th {\n",
       "        text-align: right;\n",
       "    }\n",
       "</style>\n",
       "<table border=\"1\" class=\"dataframe\">\n",
       "  <thead>\n",
       "    <tr style=\"text-align: right;\">\n",
       "      <th></th>\n",
       "      <th>Hours Studied</th>\n",
       "      <th>Previous Scores</th>\n",
       "      <th>Extracurricular Activities</th>\n",
       "      <th>Sleep Hours</th>\n",
       "      <th>Sample Question Papers Practiced</th>\n",
       "      <th>Performance Index</th>\n",
       "    </tr>\n",
       "  </thead>\n",
       "  <tbody>\n",
       "    <tr>\n",
       "      <th>0</th>\n",
       "      <td>7</td>\n",
       "      <td>99</td>\n",
       "      <td>Yes</td>\n",
       "      <td>9</td>\n",
       "      <td>1</td>\n",
       "      <td>91.0</td>\n",
       "    </tr>\n",
       "    <tr>\n",
       "      <th>1</th>\n",
       "      <td>4</td>\n",
       "      <td>82</td>\n",
       "      <td>No</td>\n",
       "      <td>4</td>\n",
       "      <td>2</td>\n",
       "      <td>65.0</td>\n",
       "    </tr>\n",
       "    <tr>\n",
       "      <th>2</th>\n",
       "      <td>8</td>\n",
       "      <td>51</td>\n",
       "      <td>Yes</td>\n",
       "      <td>7</td>\n",
       "      <td>2</td>\n",
       "      <td>45.0</td>\n",
       "    </tr>\n",
       "    <tr>\n",
       "      <th>3</th>\n",
       "      <td>5</td>\n",
       "      <td>52</td>\n",
       "      <td>Yes</td>\n",
       "      <td>5</td>\n",
       "      <td>2</td>\n",
       "      <td>36.0</td>\n",
       "    </tr>\n",
       "    <tr>\n",
       "      <th>4</th>\n",
       "      <td>7</td>\n",
       "      <td>75</td>\n",
       "      <td>No</td>\n",
       "      <td>8</td>\n",
       "      <td>5</td>\n",
       "      <td>66.0</td>\n",
       "    </tr>\n",
       "    <tr>\n",
       "      <th>...</th>\n",
       "      <td>...</td>\n",
       "      <td>...</td>\n",
       "      <td>...</td>\n",
       "      <td>...</td>\n",
       "      <td>...</td>\n",
       "      <td>...</td>\n",
       "    </tr>\n",
       "    <tr>\n",
       "      <th>9995</th>\n",
       "      <td>1</td>\n",
       "      <td>49</td>\n",
       "      <td>Yes</td>\n",
       "      <td>4</td>\n",
       "      <td>2</td>\n",
       "      <td>23.0</td>\n",
       "    </tr>\n",
       "    <tr>\n",
       "      <th>9996</th>\n",
       "      <td>7</td>\n",
       "      <td>64</td>\n",
       "      <td>Yes</td>\n",
       "      <td>8</td>\n",
       "      <td>5</td>\n",
       "      <td>58.0</td>\n",
       "    </tr>\n",
       "    <tr>\n",
       "      <th>9997</th>\n",
       "      <td>6</td>\n",
       "      <td>83</td>\n",
       "      <td>Yes</td>\n",
       "      <td>8</td>\n",
       "      <td>5</td>\n",
       "      <td>74.0</td>\n",
       "    </tr>\n",
       "    <tr>\n",
       "      <th>9998</th>\n",
       "      <td>9</td>\n",
       "      <td>97</td>\n",
       "      <td>Yes</td>\n",
       "      <td>7</td>\n",
       "      <td>0</td>\n",
       "      <td>95.0</td>\n",
       "    </tr>\n",
       "    <tr>\n",
       "      <th>9999</th>\n",
       "      <td>7</td>\n",
       "      <td>74</td>\n",
       "      <td>No</td>\n",
       "      <td>8</td>\n",
       "      <td>1</td>\n",
       "      <td>64.0</td>\n",
       "    </tr>\n",
       "  </tbody>\n",
       "</table>\n",
       "<p>10000 rows × 6 columns</p>\n",
       "</div>"
      ],
      "text/plain": [
       "      Hours Studied  Previous Scores Extracurricular Activities  Sleep Hours  \\\n",
       "0                 7               99                        Yes            9   \n",
       "1                 4               82                         No            4   \n",
       "2                 8               51                        Yes            7   \n",
       "3                 5               52                        Yes            5   \n",
       "4                 7               75                         No            8   \n",
       "...             ...              ...                        ...          ...   \n",
       "9995              1               49                        Yes            4   \n",
       "9996              7               64                        Yes            8   \n",
       "9997              6               83                        Yes            8   \n",
       "9998              9               97                        Yes            7   \n",
       "9999              7               74                         No            8   \n",
       "\n",
       "      Sample Question Papers Practiced  Performance Index  \n",
       "0                                    1               91.0  \n",
       "1                                    2               65.0  \n",
       "2                                    2               45.0  \n",
       "3                                    2               36.0  \n",
       "4                                    5               66.0  \n",
       "...                                ...                ...  \n",
       "9995                                 2               23.0  \n",
       "9996                                 5               58.0  \n",
       "9997                                 5               74.0  \n",
       "9998                                 0               95.0  \n",
       "9999                                 1               64.0  \n",
       "\n",
       "[10000 rows x 6 columns]"
      ]
     },
     "execution_count": 2,
     "metadata": {},
     "output_type": "execute_result"
    }
   ],
   "source": [
    "df = pd.read_csv(\"/kaggle/input/student-performance-multiple-linear-regression/Student_Performance.csv\")\n",
    "df"
   ]
  },
  {
   "cell_type": "markdown",
   "id": "84eb9f94",
   "metadata": {
    "papermill": {
     "duration": 0.012556,
     "end_time": "2024-09-11T20:35:33.154478",
     "exception": false,
     "start_time": "2024-09-11T20:35:33.141922",
     "status": "completed"
    },
    "tags": []
   },
   "source": [
    "# **Describe the Data**"
   ]
  },
  {
   "cell_type": "code",
   "execution_count": 3,
   "id": "ec8798d1",
   "metadata": {
    "execution": {
     "iopub.execute_input": "2024-09-11T20:35:33.179381Z",
     "iopub.status.busy": "2024-09-11T20:35:33.178942Z",
     "iopub.status.idle": "2024-09-11T20:35:33.211628Z",
     "shell.execute_reply": "2024-09-11T20:35:33.210501Z"
    },
    "papermill": {
     "duration": 0.048369,
     "end_time": "2024-09-11T20:35:33.214354",
     "exception": false,
     "start_time": "2024-09-11T20:35:33.165985",
     "status": "completed"
    },
    "tags": []
   },
   "outputs": [
    {
     "data": {
      "text/html": [
       "<div>\n",
       "<style scoped>\n",
       "    .dataframe tbody tr th:only-of-type {\n",
       "        vertical-align: middle;\n",
       "    }\n",
       "\n",
       "    .dataframe tbody tr th {\n",
       "        vertical-align: top;\n",
       "    }\n",
       "\n",
       "    .dataframe thead th {\n",
       "        text-align: right;\n",
       "    }\n",
       "</style>\n",
       "<table border=\"1\" class=\"dataframe\">\n",
       "  <thead>\n",
       "    <tr style=\"text-align: right;\">\n",
       "      <th></th>\n",
       "      <th>Hours Studied</th>\n",
       "      <th>Previous Scores</th>\n",
       "      <th>Sleep Hours</th>\n",
       "      <th>Sample Question Papers Practiced</th>\n",
       "      <th>Performance Index</th>\n",
       "    </tr>\n",
       "  </thead>\n",
       "  <tbody>\n",
       "    <tr>\n",
       "      <th>count</th>\n",
       "      <td>10000.000000</td>\n",
       "      <td>10000.000000</td>\n",
       "      <td>10000.000000</td>\n",
       "      <td>10000.000000</td>\n",
       "      <td>10000.000000</td>\n",
       "    </tr>\n",
       "    <tr>\n",
       "      <th>mean</th>\n",
       "      <td>4.992900</td>\n",
       "      <td>69.445700</td>\n",
       "      <td>6.530600</td>\n",
       "      <td>4.583300</td>\n",
       "      <td>55.224800</td>\n",
       "    </tr>\n",
       "    <tr>\n",
       "      <th>std</th>\n",
       "      <td>2.589309</td>\n",
       "      <td>17.343152</td>\n",
       "      <td>1.695863</td>\n",
       "      <td>2.867348</td>\n",
       "      <td>19.212558</td>\n",
       "    </tr>\n",
       "    <tr>\n",
       "      <th>min</th>\n",
       "      <td>1.000000</td>\n",
       "      <td>40.000000</td>\n",
       "      <td>4.000000</td>\n",
       "      <td>0.000000</td>\n",
       "      <td>10.000000</td>\n",
       "    </tr>\n",
       "    <tr>\n",
       "      <th>25%</th>\n",
       "      <td>3.000000</td>\n",
       "      <td>54.000000</td>\n",
       "      <td>5.000000</td>\n",
       "      <td>2.000000</td>\n",
       "      <td>40.000000</td>\n",
       "    </tr>\n",
       "    <tr>\n",
       "      <th>50%</th>\n",
       "      <td>5.000000</td>\n",
       "      <td>69.000000</td>\n",
       "      <td>7.000000</td>\n",
       "      <td>5.000000</td>\n",
       "      <td>55.000000</td>\n",
       "    </tr>\n",
       "    <tr>\n",
       "      <th>75%</th>\n",
       "      <td>7.000000</td>\n",
       "      <td>85.000000</td>\n",
       "      <td>8.000000</td>\n",
       "      <td>7.000000</td>\n",
       "      <td>71.000000</td>\n",
       "    </tr>\n",
       "    <tr>\n",
       "      <th>max</th>\n",
       "      <td>9.000000</td>\n",
       "      <td>99.000000</td>\n",
       "      <td>9.000000</td>\n",
       "      <td>9.000000</td>\n",
       "      <td>100.000000</td>\n",
       "    </tr>\n",
       "  </tbody>\n",
       "</table>\n",
       "</div>"
      ],
      "text/plain": [
       "       Hours Studied  Previous Scores   Sleep Hours  \\\n",
       "count   10000.000000     10000.000000  10000.000000   \n",
       "mean        4.992900        69.445700      6.530600   \n",
       "std         2.589309        17.343152      1.695863   \n",
       "min         1.000000        40.000000      4.000000   \n",
       "25%         3.000000        54.000000      5.000000   \n",
       "50%         5.000000        69.000000      7.000000   \n",
       "75%         7.000000        85.000000      8.000000   \n",
       "max         9.000000        99.000000      9.000000   \n",
       "\n",
       "       Sample Question Papers Practiced  Performance Index  \n",
       "count                      10000.000000       10000.000000  \n",
       "mean                           4.583300          55.224800  \n",
       "std                            2.867348          19.212558  \n",
       "min                            0.000000          10.000000  \n",
       "25%                            2.000000          40.000000  \n",
       "50%                            5.000000          55.000000  \n",
       "75%                            7.000000          71.000000  \n",
       "max                            9.000000         100.000000  "
      ]
     },
     "execution_count": 3,
     "metadata": {},
     "output_type": "execute_result"
    }
   ],
   "source": [
    "df.describe()"
   ]
  },
  {
   "cell_type": "markdown",
   "id": "379ad22b",
   "metadata": {
    "papermill": {
     "duration": 0.011363,
     "end_time": "2024-09-11T20:35:33.238123",
     "exception": false,
     "start_time": "2024-09-11T20:35:33.226760",
     "status": "completed"
    },
    "tags": []
   },
   "source": [
    "# **Check for missing values**"
   ]
  },
  {
   "cell_type": "code",
   "execution_count": 4,
   "id": "06119720",
   "metadata": {
    "execution": {
     "iopub.execute_input": "2024-09-11T20:35:33.263472Z",
     "iopub.status.busy": "2024-09-11T20:35:33.263063Z",
     "iopub.status.idle": "2024-09-11T20:35:33.274238Z",
     "shell.execute_reply": "2024-09-11T20:35:33.273141Z"
    },
    "papermill": {
     "duration": 0.026802,
     "end_time": "2024-09-11T20:35:33.276807",
     "exception": false,
     "start_time": "2024-09-11T20:35:33.250005",
     "status": "completed"
    },
    "tags": []
   },
   "outputs": [
    {
     "data": {
      "text/plain": [
       "Hours Studied                       0\n",
       "Previous Scores                     0\n",
       "Extracurricular Activities          0\n",
       "Sleep Hours                         0\n",
       "Sample Question Papers Practiced    0\n",
       "Performance Index                   0\n",
       "dtype: int64"
      ]
     },
     "execution_count": 4,
     "metadata": {},
     "output_type": "execute_result"
    }
   ],
   "source": [
    "missing_values_count = df.isnull().sum()\n",
    "missing_values_count[0:10]"
   ]
  },
  {
   "cell_type": "markdown",
   "id": "53566d91",
   "metadata": {
    "papermill": {
     "duration": 0.011341,
     "end_time": "2024-09-11T20:35:33.301142",
     "exception": false,
     "start_time": "2024-09-11T20:35:33.289801",
     "status": "completed"
    },
    "tags": []
   },
   "source": [
    "**Therefore, there are no missing values**"
   ]
  },
  {
   "cell_type": "markdown",
   "id": "f6c852aa",
   "metadata": {
    "papermill": {
     "duration": 0.011995,
     "end_time": "2024-09-11T20:35:33.324991",
     "exception": false,
     "start_time": "2024-09-11T20:35:33.312996",
     "status": "completed"
    },
    "tags": []
   },
   "source": [
    "# **Data Visualization**"
   ]
  },
  {
   "cell_type": "code",
   "execution_count": 5,
   "id": "e35439d3",
   "metadata": {
    "execution": {
     "iopub.execute_input": "2024-09-11T20:35:33.350340Z",
     "iopub.status.busy": "2024-09-11T20:35:33.349893Z",
     "iopub.status.idle": "2024-09-11T20:35:33.781077Z",
     "shell.execute_reply": "2024-09-11T20:35:33.779832Z"
    },
    "papermill": {
     "duration": 0.447303,
     "end_time": "2024-09-11T20:35:33.783959",
     "exception": false,
     "start_time": "2024-09-11T20:35:33.336656",
     "status": "completed"
    },
    "tags": []
   },
   "outputs": [
    {
     "data": {
      "text/plain": [
       "Text(0.5, 1.0, 'Hours Studied vs. Performance Index')"
      ]
     },
     "execution_count": 5,
     "metadata": {},
     "output_type": "execute_result"
    },
    {
     "data": {
      "image/png": "[encoded data removed]",
      "text/plain": [
       "<Figure size 640x480 with 1 Axes>"
      ]
     },
     "metadata": {},
     "output_type": "display_data"
    }
   ],
   "source": [
    "import matplotlib.pyplot as plt\n",
    "\n",
    "plt.scatter(df['Hours Studied'], df['Performance Index'])\n",
    "plt.xlabel('Hours Studied')\n",
    "plt.ylabel('Performance Index')\n",
    "plt.title('Hours Studied vs. Performance Index')"
   ]
  },
  {
   "cell_type": "markdown",
   "id": "fd950260",
   "metadata": {
    "papermill": {
     "duration": 0.012163,
     "end_time": "2024-09-11T20:35:33.808630",
     "exception": false,
     "start_time": "2024-09-11T20:35:33.796467",
     "status": "completed"
    },
    "tags": []
   },
   "source": [
    "**Inference:** As a student studies for more hours, they are more likely to perform better next time."
   ]
  },
  {
   "cell_type": "markdown",
   "id": "210a3629",
   "metadata": {
    "papermill": {
     "duration": 0.012418,
     "end_time": "2024-09-11T20:35:33.833532",
     "exception": false,
     "start_time": "2024-09-11T20:35:33.821114",
     "status": "completed"
    },
    "tags": []
   },
   "source": [
    "# **Data Preparation**"
   ]
  },
  {
   "cell_type": "markdown",
   "id": "18f4ded9",
   "metadata": {
    "papermill": {
     "duration": 0.012034,
     "end_time": "2024-09-11T20:35:33.858401",
     "exception": false,
     "start_time": "2024-09-11T20:35:33.846367",
     "status": "completed"
    },
    "tags": []
   },
   "source": [
    "## **Convert categorical data to integer**"
   ]
  },
  {
   "cell_type": "code",
   "execution_count": 6,
   "id": "c7d475ca",
   "metadata": {
    "execution": {
     "iopub.execute_input": "2024-09-11T20:35:33.885885Z",
     "iopub.status.busy": "2024-09-11T20:35:33.884825Z",
     "iopub.status.idle": "2024-09-11T20:35:33.894599Z",
     "shell.execute_reply": "2024-09-11T20:35:33.893497Z"
    },
    "papermill": {
     "duration": 0.026154,
     "end_time": "2024-09-11T20:35:33.897218",
     "exception": false,
     "start_time": "2024-09-11T20:35:33.871064",
     "status": "completed"
    },
    "tags": []
   },
   "outputs": [],
   "source": [
    "df['Extracurricular Activities'] = df['Extracurricular Activities'].map({'Yes': 1, 'No': 0})"
   ]
  },
  {
   "cell_type": "code",
   "execution_count": 7,
   "id": "d3599bce",
   "metadata": {
    "execution": {
     "iopub.execute_input": "2024-09-11T20:35:33.924019Z",
     "iopub.status.busy": "2024-09-11T20:35:33.923647Z",
     "iopub.status.idle": "2024-09-11T20:35:33.937863Z",
     "shell.execute_reply": "2024-09-11T20:35:33.936643Z"
    },
    "papermill": {
     "duration": 0.030772,
     "end_time": "2024-09-11T20:35:33.940468",
     "exception": false,
     "start_time": "2024-09-11T20:35:33.909696",
     "status": "completed"
    },
    "tags": []
   },
   "outputs": [
    {
     "data": {
      "text/html": [
       "<div>\n",
       "<style scoped>\n",
       "    .dataframe tbody tr th:only-of-type {\n",
       "        vertical-align: middle;\n",
       "    }\n",
       "\n",
       "    .dataframe tbody tr th {\n",
       "        vertical-align: top;\n",
       "    }\n",
       "\n",
       "    .dataframe thead th {\n",
       "        text-align: right;\n",
       "    }\n",
       "</style>\n",
       "<table border=\"1\" class=\"dataframe\">\n",
       "  <thead>\n",
       "    <tr style=\"text-align: right;\">\n",
       "      <th></th>\n",
       "      <th>Hours Studied</th>\n",
       "      <th>Previous Scores</th>\n",
       "      <th>Extracurricular Activities</th>\n",
       "      <th>Sleep Hours</th>\n",
       "      <th>Sample Question Papers Practiced</th>\n",
       "      <th>Performance Index</th>\n",
       "    </tr>\n",
       "  </thead>\n",
       "  <tbody>\n",
       "    <tr>\n",
       "      <th>0</th>\n",
       "      <td>7</td>\n",
       "      <td>99</td>\n",
       "      <td>1</td>\n",
       "      <td>9</td>\n",
       "      <td>1</td>\n",
       "      <td>91.0</td>\n",
       "    </tr>\n",
       "    <tr>\n",
       "      <th>1</th>\n",
       "      <td>4</td>\n",
       "      <td>82</td>\n",
       "      <td>0</td>\n",
       "      <td>4</td>\n",
       "      <td>2</td>\n",
       "      <td>65.0</td>\n",
       "    </tr>\n",
       "    <tr>\n",
       "      <th>2</th>\n",
       "      <td>8</td>\n",
       "      <td>51</td>\n",
       "      <td>1</td>\n",
       "      <td>7</td>\n",
       "      <td>2</td>\n",
       "      <td>45.0</td>\n",
       "    </tr>\n",
       "    <tr>\n",
       "      <th>3</th>\n",
       "      <td>5</td>\n",
       "      <td>52</td>\n",
       "      <td>1</td>\n",
       "      <td>5</td>\n",
       "      <td>2</td>\n",
       "      <td>36.0</td>\n",
       "    </tr>\n",
       "    <tr>\n",
       "      <th>4</th>\n",
       "      <td>7</td>\n",
       "      <td>75</td>\n",
       "      <td>0</td>\n",
       "      <td>8</td>\n",
       "      <td>5</td>\n",
       "      <td>66.0</td>\n",
       "    </tr>\n",
       "  </tbody>\n",
       "</table>\n",
       "</div>"
      ],
      "text/plain": [
       "   Hours Studied  Previous Scores  Extracurricular Activities  Sleep Hours  \\\n",
       "0              7               99                           1            9   \n",
       "1              4               82                           0            4   \n",
       "2              8               51                           1            7   \n",
       "3              5               52                           1            5   \n",
       "4              7               75                           0            8   \n",
       "\n",
       "   Sample Question Papers Practiced  Performance Index  \n",
       "0                                 1               91.0  \n",
       "1                                 2               65.0  \n",
       "2                                 2               45.0  \n",
       "3                                 2               36.0  \n",
       "4                                 5               66.0  "
      ]
     },
     "execution_count": 7,
     "metadata": {},
     "output_type": "execute_result"
    }
   ],
   "source": [
    "df.head()"
   ]
  },
  {
   "cell_type": "markdown",
   "id": "9263d09b",
   "metadata": {
    "papermill": {
     "duration": 0.012367,
     "end_time": "2024-09-11T20:35:33.965715",
     "exception": false,
     "start_time": "2024-09-11T20:35:33.953348",
     "status": "completed"
    },
    "tags": []
   },
   "source": [
    "## **Define y: The Target Variable**"
   ]
  },
  {
   "cell_type": "code",
   "execution_count": 8,
   "id": "e90a3303",
   "metadata": {
    "execution": {
     "iopub.execute_input": "2024-09-11T20:35:33.993170Z",
     "iopub.status.busy": "2024-09-11T20:35:33.992745Z",
     "iopub.status.idle": "2024-09-11T20:35:34.003765Z",
     "shell.execute_reply": "2024-09-11T20:35:34.002587Z"
    },
    "papermill": {
     "duration": 0.027753,
     "end_time": "2024-09-11T20:35:34.006382",
     "exception": false,
     "start_time": "2024-09-11T20:35:33.978629",
     "status": "completed"
    },
    "tags": []
   },
   "outputs": [
    {
     "data": {
      "text/plain": [
       "0       91.0\n",
       "1       65.0\n",
       "2       45.0\n",
       "3       36.0\n",
       "4       66.0\n",
       "        ... \n",
       "9995    23.0\n",
       "9996    58.0\n",
       "9997    74.0\n",
       "9998    95.0\n",
       "9999    64.0\n",
       "Name: Performance Index, Length: 10000, dtype: float64"
      ]
     },
     "execution_count": 8,
     "metadata": {},
     "output_type": "execute_result"
    }
   ],
   "source": [
    "y = df['Performance Index']\n",
    "y"
   ]
  },
  {
   "cell_type": "markdown",
   "id": "5cccd0c5",
   "metadata": {
    "papermill": {
     "duration": 0.013322,
     "end_time": "2024-09-11T20:35:34.032713",
     "exception": false,
     "start_time": "2024-09-11T20:35:34.019391",
     "status": "completed"
    },
    "tags": []
   },
   "source": [
    "## **Define x: The Input features**"
   ]
  },
  {
   "cell_type": "code",
   "execution_count": 9,
   "id": "a896776c",
   "metadata": {
    "execution": {
     "iopub.execute_input": "2024-09-11T20:35:34.060423Z",
     "iopub.status.busy": "2024-09-11T20:35:34.059950Z",
     "iopub.status.idle": "2024-09-11T20:35:34.075841Z",
     "shell.execute_reply": "2024-09-11T20:35:34.074609Z"
    },
    "papermill": {
     "duration": 0.032786,
     "end_time": "2024-09-11T20:35:34.078542",
     "exception": false,
     "start_time": "2024-09-11T20:35:34.045756",
     "status": "completed"
    },
    "tags": []
   },
   "outputs": [
    {
     "data": {
      "text/html": [
       "<div>\n",
       "<style scoped>\n",
       "    .dataframe tbody tr th:only-of-type {\n",
       "        vertical-align: middle;\n",
       "    }\n",
       "\n",
       "    .dataframe tbody tr th {\n",
       "        vertical-align: top;\n",
       "    }\n",
       "\n",
       "    .dataframe thead th {\n",
       "        text-align: right;\n",
       "    }\n",
       "</style>\n",
       "<table border=\"1\" class=\"dataframe\">\n",
       "  <thead>\n",
       "    <tr style=\"text-align: right;\">\n",
       "      <th></th>\n",
       "      <th>Hours Studied</th>\n",
       "      <th>Previous Scores</th>\n",
       "      <th>Extracurricular Activities</th>\n",
       "      <th>Sleep Hours</th>\n",
       "      <th>Sample Question Papers Practiced</th>\n",
       "    </tr>\n",
       "  </thead>\n",
       "  <tbody>\n",
       "    <tr>\n",
       "      <th>0</th>\n",
       "      <td>7</td>\n",
       "      <td>99</td>\n",
       "      <td>1</td>\n",
       "      <td>9</td>\n",
       "      <td>1</td>\n",
       "    </tr>\n",
       "    <tr>\n",
       "      <th>1</th>\n",
       "      <td>4</td>\n",
       "      <td>82</td>\n",
       "      <td>0</td>\n",
       "      <td>4</td>\n",
       "      <td>2</td>\n",
       "    </tr>\n",
       "    <tr>\n",
       "      <th>2</th>\n",
       "      <td>8</td>\n",
       "      <td>51</td>\n",
       "      <td>1</td>\n",
       "      <td>7</td>\n",
       "      <td>2</td>\n",
       "    </tr>\n",
       "    <tr>\n",
       "      <th>3</th>\n",
       "      <td>5</td>\n",
       "      <td>52</td>\n",
       "      <td>1</td>\n",
       "      <td>5</td>\n",
       "      <td>2</td>\n",
       "    </tr>\n",
       "    <tr>\n",
       "      <th>4</th>\n",
       "      <td>7</td>\n",
       "      <td>75</td>\n",
       "      <td>0</td>\n",
       "      <td>8</td>\n",
       "      <td>5</td>\n",
       "    </tr>\n",
       "    <tr>\n",
       "      <th>...</th>\n",
       "      <td>...</td>\n",
       "      <td>...</td>\n",
       "      <td>...</td>\n",
       "      <td>...</td>\n",
       "      <td>...</td>\n",
       "    </tr>\n",
       "    <tr>\n",
       "      <th>9995</th>\n",
       "      <td>1</td>\n",
       "      <td>49</td>\n",
       "      <td>1</td>\n",
       "      <td>4</td>\n",
       "      <td>2</td>\n",
       "    </tr>\n",
       "    <tr>\n",
       "      <th>9996</th>\n",
       "      <td>7</td>\n",
       "      <td>64</td>\n",
       "      <td>1</td>\n",
       "      <td>8</td>\n",
       "      <td>5</td>\n",
       "    </tr>\n",
       "    <tr>\n",
       "      <th>9997</th>\n",
       "      <td>6</td>\n",
       "      <td>83</td>\n",
       "      <td>1</td>\n",
       "      <td>8</td>\n",
       "      <td>5</td>\n",
       "    </tr>\n",
       "    <tr>\n",
       "      <th>9998</th>\n",
       "      <td>9</td>\n",
       "      <td>97</td>\n",
       "      <td>1</td>\n",
       "      <td>7</td>\n",
       "      <td>0</td>\n",
       "    </tr>\n",
       "    <tr>\n",
       "      <th>9999</th>\n",
       "      <td>7</td>\n",
       "      <td>74</td>\n",
       "      <td>0</td>\n",
       "      <td>8</td>\n",
       "      <td>1</td>\n",
       "    </tr>\n",
       "  </tbody>\n",
       "</table>\n",
       "<p>10000 rows × 5 columns</p>\n",
       "</div>"
      ],
      "text/plain": [
       "      Hours Studied  Previous Scores  Extracurricular Activities  Sleep Hours  \\\n",
       "0                 7               99                           1            9   \n",
       "1                 4               82                           0            4   \n",
       "2                 8               51                           1            7   \n",
       "3                 5               52                           1            5   \n",
       "4                 7               75                           0            8   \n",
       "...             ...              ...                         ...          ...   \n",
       "9995              1               49                           1            4   \n",
       "9996              7               64                           1            8   \n",
       "9997              6               83                           1            8   \n",
       "9998              9               97                           1            7   \n",
       "9999              7               74                           0            8   \n",
       "\n",
       "      Sample Question Papers Practiced  \n",
       "0                                    1  \n",
       "1                                    2  \n",
       "2                                    2  \n",
       "3                                    2  \n",
       "4                                    5  \n",
       "...                                ...  \n",
       "9995                                 2  \n",
       "9996                                 5  \n",
       "9997                                 5  \n",
       "9998                                 0  \n",
       "9999                                 1  \n",
       "\n",
       "[10000 rows x 5 columns]"
      ]
     },
     "execution_count": 9,
     "metadata": {},
     "output_type": "execute_result"
    }
   ],
   "source": [
    "x = df.drop('Performance Index',axis = 1)\n",
    "#axis = 1 drops y in the column but axis = 0 drops in row\n",
    "\n",
    "x"
   ]
  },
  {
   "cell_type": "markdown",
   "id": "61f89b10",
   "metadata": {
    "papermill": {
     "duration": 0.014062,
     "end_time": "2024-09-11T20:35:34.106449",
     "exception": false,
     "start_time": "2024-09-11T20:35:34.092387",
     "status": "completed"
    },
    "tags": []
   },
   "source": [
    "## **Data Splitting**"
   ]
  },
  {
   "cell_type": "code",
   "execution_count": 10,
   "id": "1de990c6",
   "metadata": {
    "execution": {
     "iopub.execute_input": "2024-09-11T20:35:34.144863Z",
     "iopub.status.busy": "2024-09-11T20:35:34.144289Z",
     "iopub.status.idle": "2024-09-11T20:35:35.664472Z",
     "shell.execute_reply": "2024-09-11T20:35:35.663286Z"
    },
    "papermill": {
     "duration": 1.543429,
     "end_time": "2024-09-11T20:35:35.667226",
     "exception": false,
     "start_time": "2024-09-11T20:35:34.123797",
     "status": "completed"
    },
    "tags": []
   },
   "outputs": [],
   "source": [
    "#spit to train/test set\n",
    "from sklearn.model_selection import train_test_split\n",
    "\n",
    "x_train, x_test, y_train, y_test = train_test_split(x, y, test_size=0.2, random_state=42)\n"
   ]
  },
  {
   "cell_type": "code",
   "execution_count": 11,
   "id": "21a06080",
   "metadata": {
    "execution": {
     "iopub.execute_input": "2024-09-11T20:35:35.696847Z",
     "iopub.status.busy": "2024-09-11T20:35:35.696367Z",
     "iopub.status.idle": "2024-09-11T20:35:35.711279Z",
     "shell.execute_reply": "2024-09-11T20:35:35.710110Z"
    },
    "papermill": {
     "duration": 0.033126,
     "end_time": "2024-09-11T20:35:35.713946",
     "exception": false,
     "start_time": "2024-09-11T20:35:35.680820",
     "status": "completed"
    },
    "tags": []
   },
   "outputs": [
    {
     "data": {
      "text/html": [
       "<div>\n",
       "<style scoped>\n",
       "    .dataframe tbody tr th:only-of-type {\n",
       "        vertical-align: middle;\n",
       "    }\n",
       "\n",
       "    .dataframe tbody tr th {\n",
       "        vertical-align: top;\n",
       "    }\n",
       "\n",
       "    .dataframe thead th {\n",
       "        text-align: right;\n",
       "    }\n",
       "</style>\n",
       "<table border=\"1\" class=\"dataframe\">\n",
       "  <thead>\n",
       "    <tr style=\"text-align: right;\">\n",
       "      <th></th>\n",
       "      <th>Hours Studied</th>\n",
       "      <th>Previous Scores</th>\n",
       "      <th>Extracurricular Activities</th>\n",
       "      <th>Sleep Hours</th>\n",
       "      <th>Sample Question Papers Practiced</th>\n",
       "    </tr>\n",
       "  </thead>\n",
       "  <tbody>\n",
       "    <tr>\n",
       "      <th>9254</th>\n",
       "      <td>5</td>\n",
       "      <td>49</td>\n",
       "      <td>0</td>\n",
       "      <td>7</td>\n",
       "      <td>5</td>\n",
       "    </tr>\n",
       "    <tr>\n",
       "      <th>1561</th>\n",
       "      <td>2</td>\n",
       "      <td>48</td>\n",
       "      <td>1</td>\n",
       "      <td>7</td>\n",
       "      <td>6</td>\n",
       "    </tr>\n",
       "    <tr>\n",
       "      <th>1670</th>\n",
       "      <td>2</td>\n",
       "      <td>81</td>\n",
       "      <td>0</td>\n",
       "      <td>7</td>\n",
       "      <td>2</td>\n",
       "    </tr>\n",
       "    <tr>\n",
       "      <th>6087</th>\n",
       "      <td>2</td>\n",
       "      <td>46</td>\n",
       "      <td>0</td>\n",
       "      <td>6</td>\n",
       "      <td>1</td>\n",
       "    </tr>\n",
       "    <tr>\n",
       "      <th>6669</th>\n",
       "      <td>8</td>\n",
       "      <td>47</td>\n",
       "      <td>0</td>\n",
       "      <td>9</td>\n",
       "      <td>0</td>\n",
       "    </tr>\n",
       "    <tr>\n",
       "      <th>...</th>\n",
       "      <td>...</td>\n",
       "      <td>...</td>\n",
       "      <td>...</td>\n",
       "      <td>...</td>\n",
       "      <td>...</td>\n",
       "    </tr>\n",
       "    <tr>\n",
       "      <th>5734</th>\n",
       "      <td>8</td>\n",
       "      <td>50</td>\n",
       "      <td>1</td>\n",
       "      <td>6</td>\n",
       "      <td>6</td>\n",
       "    </tr>\n",
       "    <tr>\n",
       "      <th>5191</th>\n",
       "      <td>4</td>\n",
       "      <td>68</td>\n",
       "      <td>0</td>\n",
       "      <td>9</td>\n",
       "      <td>3</td>\n",
       "    </tr>\n",
       "    <tr>\n",
       "      <th>5390</th>\n",
       "      <td>9</td>\n",
       "      <td>48</td>\n",
       "      <td>0</td>\n",
       "      <td>7</td>\n",
       "      <td>6</td>\n",
       "    </tr>\n",
       "    <tr>\n",
       "      <th>860</th>\n",
       "      <td>1</td>\n",
       "      <td>47</td>\n",
       "      <td>0</td>\n",
       "      <td>9</td>\n",
       "      <td>0</td>\n",
       "    </tr>\n",
       "    <tr>\n",
       "      <th>7270</th>\n",
       "      <td>2</td>\n",
       "      <td>46</td>\n",
       "      <td>0</td>\n",
       "      <td>6</td>\n",
       "      <td>6</td>\n",
       "    </tr>\n",
       "  </tbody>\n",
       "</table>\n",
       "<p>8000 rows × 5 columns</p>\n",
       "</div>"
      ],
      "text/plain": [
       "      Hours Studied  Previous Scores  Extracurricular Activities  Sleep Hours  \\\n",
       "9254              5               49                           0            7   \n",
       "1561              2               48                           1            7   \n",
       "1670              2               81                           0            7   \n",
       "6087              2               46                           0            6   \n",
       "6669              8               47                           0            9   \n",
       "...             ...              ...                         ...          ...   \n",
       "5734              8               50                           1            6   \n",
       "5191              4               68                           0            9   \n",
       "5390              9               48                           0            7   \n",
       "860               1               47                           0            9   \n",
       "7270              2               46                           0            6   \n",
       "\n",
       "      Sample Question Papers Practiced  \n",
       "9254                                 5  \n",
       "1561                                 6  \n",
       "1670                                 2  \n",
       "6087                                 1  \n",
       "6669                                 0  \n",
       "...                                ...  \n",
       "5734                                 6  \n",
       "5191                                 3  \n",
       "5390                                 6  \n",
       "860                                  0  \n",
       "7270                                 6  \n",
       "\n",
       "[8000 rows x 5 columns]"
      ]
     },
     "execution_count": 11,
     "metadata": {},
     "output_type": "execute_result"
    }
   ],
   "source": [
    "x_train"
   ]
  },
  {
   "cell_type": "code",
   "execution_count": 12,
   "id": "4fec23e6",
   "metadata": {
    "execution": {
     "iopub.execute_input": "2024-09-11T20:35:35.743814Z",
     "iopub.status.busy": "2024-09-11T20:35:35.743066Z",
     "iopub.status.idle": "2024-09-11T20:35:35.757780Z",
     "shell.execute_reply": "2024-09-11T20:35:35.756559Z"
    },
    "papermill": {
     "duration": 0.032215,
     "end_time": "2024-09-11T20:35:35.760356",
     "exception": false,
     "start_time": "2024-09-11T20:35:35.728141",
     "status": "completed"
    },
    "tags": []
   },
   "outputs": [
    {
     "data": {
      "text/html": [
       "<div>\n",
       "<style scoped>\n",
       "    .dataframe tbody tr th:only-of-type {\n",
       "        vertical-align: middle;\n",
       "    }\n",
       "\n",
       "    .dataframe tbody tr th {\n",
       "        vertical-align: top;\n",
       "    }\n",
       "\n",
       "    .dataframe thead th {\n",
       "        text-align: right;\n",
       "    }\n",
       "</style>\n",
       "<table border=\"1\" class=\"dataframe\">\n",
       "  <thead>\n",
       "    <tr style=\"text-align: right;\">\n",
       "      <th></th>\n",
       "      <th>Hours Studied</th>\n",
       "      <th>Previous Scores</th>\n",
       "      <th>Extracurricular Activities</th>\n",
       "      <th>Sleep Hours</th>\n",
       "      <th>Sample Question Papers Practiced</th>\n",
       "    </tr>\n",
       "  </thead>\n",
       "  <tbody>\n",
       "    <tr>\n",
       "      <th>6252</th>\n",
       "      <td>5</td>\n",
       "      <td>69</td>\n",
       "      <td>0</td>\n",
       "      <td>8</td>\n",
       "      <td>2</td>\n",
       "    </tr>\n",
       "    <tr>\n",
       "      <th>4684</th>\n",
       "      <td>2</td>\n",
       "      <td>46</td>\n",
       "      <td>1</td>\n",
       "      <td>4</td>\n",
       "      <td>8</td>\n",
       "    </tr>\n",
       "    <tr>\n",
       "      <th>1731</th>\n",
       "      <td>7</td>\n",
       "      <td>56</td>\n",
       "      <td>1</td>\n",
       "      <td>7</td>\n",
       "      <td>5</td>\n",
       "    </tr>\n",
       "    <tr>\n",
       "      <th>4742</th>\n",
       "      <td>6</td>\n",
       "      <td>42</td>\n",
       "      <td>1</td>\n",
       "      <td>8</td>\n",
       "      <td>5</td>\n",
       "    </tr>\n",
       "    <tr>\n",
       "      <th>4521</th>\n",
       "      <td>7</td>\n",
       "      <td>53</td>\n",
       "      <td>0</td>\n",
       "      <td>4</td>\n",
       "      <td>6</td>\n",
       "    </tr>\n",
       "    <tr>\n",
       "      <th>...</th>\n",
       "      <td>...</td>\n",
       "      <td>...</td>\n",
       "      <td>...</td>\n",
       "      <td>...</td>\n",
       "      <td>...</td>\n",
       "    </tr>\n",
       "    <tr>\n",
       "      <th>6412</th>\n",
       "      <td>2</td>\n",
       "      <td>70</td>\n",
       "      <td>0</td>\n",
       "      <td>7</td>\n",
       "      <td>3</td>\n",
       "    </tr>\n",
       "    <tr>\n",
       "      <th>8285</th>\n",
       "      <td>4</td>\n",
       "      <td>79</td>\n",
       "      <td>0</td>\n",
       "      <td>9</td>\n",
       "      <td>3</td>\n",
       "    </tr>\n",
       "    <tr>\n",
       "      <th>7853</th>\n",
       "      <td>2</td>\n",
       "      <td>40</td>\n",
       "      <td>1</td>\n",
       "      <td>7</td>\n",
       "      <td>2</td>\n",
       "    </tr>\n",
       "    <tr>\n",
       "      <th>1095</th>\n",
       "      <td>3</td>\n",
       "      <td>83</td>\n",
       "      <td>0</td>\n",
       "      <td>7</td>\n",
       "      <td>5</td>\n",
       "    </tr>\n",
       "    <tr>\n",
       "      <th>6929</th>\n",
       "      <td>5</td>\n",
       "      <td>60</td>\n",
       "      <td>0</td>\n",
       "      <td>8</td>\n",
       "      <td>4</td>\n",
       "    </tr>\n",
       "  </tbody>\n",
       "</table>\n",
       "<p>2000 rows × 5 columns</p>\n",
       "</div>"
      ],
      "text/plain": [
       "      Hours Studied  Previous Scores  Extracurricular Activities  Sleep Hours  \\\n",
       "6252              5               69                           0            8   \n",
       "4684              2               46                           1            4   \n",
       "1731              7               56                           1            7   \n",
       "4742              6               42                           1            8   \n",
       "4521              7               53                           0            4   \n",
       "...             ...              ...                         ...          ...   \n",
       "6412              2               70                           0            7   \n",
       "8285              4               79                           0            9   \n",
       "7853              2               40                           1            7   \n",
       "1095              3               83                           0            7   \n",
       "6929              5               60                           0            8   \n",
       "\n",
       "      Sample Question Papers Practiced  \n",
       "6252                                 2  \n",
       "4684                                 8  \n",
       "1731                                 5  \n",
       "4742                                 5  \n",
       "4521                                 6  \n",
       "...                                ...  \n",
       "6412                                 3  \n",
       "8285                                 3  \n",
       "7853                                 2  \n",
       "1095                                 5  \n",
       "6929                                 4  \n",
       "\n",
       "[2000 rows x 5 columns]"
      ]
     },
     "execution_count": 12,
     "metadata": {},
     "output_type": "execute_result"
    }
   ],
   "source": [
    "x_test"
   ]
  },
  {
   "cell_type": "markdown",
   "id": "95022997",
   "metadata": {
    "papermill": {
     "duration": 0.013978,
     "end_time": "2024-09-11T20:35:35.788364",
     "exception": false,
     "start_time": "2024-09-11T20:35:35.774386",
     "status": "completed"
    },
    "tags": []
   },
   "source": [
    "# **Model Building**"
   ]
  },
  {
   "cell_type": "markdown",
   "id": "cc855ef6",
   "metadata": {
    "papermill": {
     "duration": 0.013678,
     "end_time": "2024-09-11T20:35:35.816119",
     "exception": false,
     "start_time": "2024-09-11T20:35:35.802441",
     "status": "completed"
    },
    "tags": []
   },
   "source": [
    "## **Linear Regression**"
   ]
  },
  {
   "cell_type": "code",
   "execution_count": 13,
   "id": "a3e47379",
   "metadata": {
    "execution": {
     "iopub.execute_input": "2024-09-11T20:35:35.846451Z",
     "iopub.status.busy": "2024-09-11T20:35:35.845675Z",
     "iopub.status.idle": "2024-09-11T20:35:36.040891Z",
     "shell.execute_reply": "2024-09-11T20:35:36.039686Z"
    },
    "papermill": {
     "duration": 0.213976,
     "end_time": "2024-09-11T20:35:36.044322",
     "exception": false,
     "start_time": "2024-09-11T20:35:35.830346",
     "status": "completed"
    },
    "tags": []
   },
   "outputs": [],
   "source": [
    "from sklearn.linear_model import LinearRegression"
   ]
  },
  {
   "cell_type": "markdown",
   "id": "080102ee",
   "metadata": {
    "papermill": {
     "duration": 0.013827,
     "end_time": "2024-09-11T20:35:36.072413",
     "exception": false,
     "start_time": "2024-09-11T20:35:36.058586",
     "status": "completed"
    },
    "tags": []
   },
   "source": [
    "## **Training the model**"
   ]
  },
  {
   "cell_type": "code",
   "execution_count": 14,
   "id": "99388733",
   "metadata": {
    "execution": {
     "iopub.execute_input": "2024-09-11T20:35:36.102381Z",
     "iopub.status.busy": "2024-09-11T20:35:36.101930Z",
     "iopub.status.idle": "2024-09-11T20:35:36.138087Z",
     "shell.execute_reply": "2024-09-11T20:35:36.136800Z"
    },
    "papermill": {
     "duration": 0.054491,
     "end_time": "2024-09-11T20:35:36.141061",
     "exception": false,
     "start_time": "2024-09-11T20:35:36.086570",
     "status": "completed"
    },
    "tags": []
   },
   "outputs": [
    {
     "data": {
      "text/html": [
       "<style>#sk-container-id-1 {color: black;background-color: white;}#sk-container-id-1 pre{padding: 0;}#sk-container-id-1 div.sk-toggleable {background-color: white;}#sk-container-id-1 label.sk-toggleable__label {cursor: pointer;display: block;width: 100%;margin-bottom: 0;padding: 0.3em;box-sizing: border-box;text-align: center;}#sk-container-id-1 label.sk-toggleable__label-arrow:before {content: \"▸\";float: left;margin-right: 0.25em;color: #696969;}#sk-container-id-1 label.sk-toggleable__label-arrow:hover:before {color: black;}#sk-container-id-1 div.sk-estimator:hover label.sk-toggleable__label-arrow:before {color: black;}#sk-container-id-1 div.sk-toggleable__content {max-height: 0;max-width: 0;overflow: hidden;text-align: left;background-color: #f0f8ff;}#sk-container-id-1 div.sk-toggleable__content pre {margin: 0.2em;color: black;border-radius: 0.25em;background-color: #f0f8ff;}#sk-container-id-1 input.sk-toggleable__control:checked~div.sk-toggleable__content {max-height: 200px;max-width: 100%;overflow: auto;}#sk-container-id-1 input.sk-toggleable__control:checked~label.sk-toggleable__label-arrow:before {content: \"▾\";}#sk-container-id-1 div.sk-estimator input.sk-toggleable__control:checked~label.sk-toggleable__label {background-color: #d4ebff;}#sk-container-id-1 div.sk-label input.sk-toggleable__control:checked~label.sk-toggleable__label {background-color: #d4ebff;}#sk-container-id-1 input.sk-hidden--visually {border: 0;clip: rect(1px 1px 1px 1px);clip: rect(1px, 1px, 1px, 1px);height: 1px;margin: -1px;overflow: hidden;padding: 0;position: absolute;width: 1px;}#sk-container-id-1 div.sk-estimator {font-family: monospace;background-color: #f0f8ff;border: 1px dotted black;border-radius: 0.25em;box-sizing: border-box;margin-bottom: 0.5em;}#sk-container-id-1 div.sk-estimator:hover {background-color: #d4ebff;}#sk-container-id-1 div.sk-parallel-item::after {content: \"\";width: 100%;border-bottom: 1px solid gray;flex-grow: 1;}#sk-container-id-1 div.sk-label:hover label.sk-toggleable__label {background-color: #d4ebff;}#sk-container-id-1 div.sk-serial::before {content: \"\";position: absolute;border-left: 1px solid gray;box-sizing: border-box;top: 0;bottom: 0;left: 50%;z-index: 0;}#sk-container-id-1 div.sk-serial {display: flex;flex-direction: column;align-items: center;background-color: white;padding-right: 0.2em;padding-left: 0.2em;position: relative;}#sk-container-id-1 div.sk-item {position: relative;z-index: 1;}#sk-container-id-1 div.sk-parallel {display: flex;align-items: stretch;justify-content: center;background-color: white;position: relative;}#sk-container-id-1 div.sk-item::before, #sk-container-id-1 div.sk-parallel-item::before {content: \"\";position: absolute;border-left: 1px solid gray;box-sizing: border-box;top: 0;bottom: 0;left: 50%;z-index: -1;}#sk-container-id-1 div.sk-parallel-item {display: flex;flex-direction: column;z-index: 1;position: relative;background-color: white;}#sk-container-id-1 div.sk-parallel-item:first-child::after {align-self: flex-end;width: 50%;}#sk-container-id-1 div.sk-parallel-item:last-child::after {align-self: flex-start;width: 50%;}#sk-container-id-1 div.sk-parallel-item:only-child::after {width: 0;}#sk-container-id-1 div.sk-dashed-wrapped {border: 1px dashed gray;margin: 0 0.4em 0.5em 0.4em;box-sizing: border-box;padding-bottom: 0.4em;background-color: white;}#sk-container-id-1 div.sk-label label {font-family: monospace;font-weight: bold;display: inline-block;line-height: 1.2em;}#sk-container-id-1 div.sk-label-container {text-align: center;}#sk-container-id-1 div.sk-container {/* jupyter's `normalize.less` sets `[hidden] { display: none; }` but bootstrap.min.css set `[hidden] { display: none !important; }` so we also need the `!important` here to be able to override the default hidden behavior on the sphinx rendered scikit-learn.org. See: https://github.com/scikit-learn/scikit-learn/issues/21755 */display: inline-block !important;position: relative;}#sk-container-id-1 div.sk-text-repr-fallback {display: none;}</style><div id=\"sk-container-id-1\" class=\"sk-top-container\"><div class=\"sk-text-repr-fallback\"><pre>LinearRegression()</pre><b>In a Jupyter environment, please rerun this cell to show the HTML representation or trust the notebook. <br />On GitHub, the HTML representation is unable to render, please try loading this page with nbviewer.org.</b></div><div class=\"sk-container\" hidden><div class=\"sk-item\"><div class=\"sk-estimator sk-toggleable\"><input class=\"sk-toggleable__control sk-hidden--visually\" id=\"sk-estimator-id-1\" type=\"checkbox\" checked><label for=\"sk-estimator-id-1\" class=\"sk-toggleable__label sk-toggleable__label-arrow\">LinearRegression</label><div class=\"sk-toggleable__content\"><pre>LinearRegression()</pre></div></div></div></div></div>"
      ],
      "text/plain": [
       "LinearRegression()"
      ]
     },
     "execution_count": 14,
     "metadata": {},
     "output_type": "execute_result"
    }
   ],
   "source": [
    "lr = LinearRegression()\n",
    "lr.fit(x_train, y_train)"
   ]
  },
  {
   "cell_type": "markdown",
   "id": "a2040ece",
   "metadata": {
    "papermill": {
     "duration": 0.01601,
     "end_time": "2024-09-11T20:35:36.171795",
     "exception": false,
     "start_time": "2024-09-11T20:35:36.155785",
     "status": "completed"
    },
    "tags": []
   },
   "source": [
    "## **Applying the model to make a prediction**"
   ]
  },
  {
   "cell_type": "code",
   "execution_count": 15,
   "id": "414a053e",
   "metadata": {
    "execution": {
     "iopub.execute_input": "2024-09-11T20:35:36.202957Z",
     "iopub.status.busy": "2024-09-11T20:35:36.202581Z",
     "iopub.status.idle": "2024-09-11T20:35:36.218111Z",
     "shell.execute_reply": "2024-09-11T20:35:36.216541Z"
    },
    "papermill": {
     "duration": 0.035774,
     "end_time": "2024-09-11T20:35:36.222336",
     "exception": false,
     "start_time": "2024-09-11T20:35:36.186562",
     "status": "completed"
    },
    "tags": []
   },
   "outputs": [],
   "source": [
    "y_lr_train_pred = lr.predict(x_train)\n",
    "y_lr_test_pred = lr.predict(x_test)"
   ]
  },
  {
   "cell_type": "code",
   "execution_count": 16,
   "id": "46664b5c",
   "metadata": {
    "execution": {
     "iopub.execute_input": "2024-09-11T20:35:36.284116Z",
     "iopub.status.busy": "2024-09-11T20:35:36.283459Z",
     "iopub.status.idle": "2024-09-11T20:35:36.294190Z",
     "shell.execute_reply": "2024-09-11T20:35:36.292634Z"
    },
    "papermill": {
     "duration": 0.046844,
     "end_time": "2024-09-11T20:35:36.298820",
     "exception": false,
     "start_time": "2024-09-11T20:35:36.251976",
     "status": "completed"
    },
    "tags": []
   },
   "outputs": [
    {
     "data": {
      "text/plain": [
       "array([34.47064278, 25.69665091, 57.88131903, ..., 45.05542174,\n",
       "       21.02145642, 22.57711635])"
      ]
     },
     "execution_count": 16,
     "metadata": {},
     "output_type": "execute_result"
    }
   ],
   "source": [
    "y_lr_train_pred"
   ]
  },
  {
   "cell_type": "code",
   "execution_count": 17,
   "id": "e9d8e783",
   "metadata": {
    "execution": {
     "iopub.execute_input": "2024-09-11T20:35:36.348355Z",
     "iopub.status.busy": "2024-09-11T20:35:36.347916Z",
     "iopub.status.idle": "2024-09-11T20:35:36.355108Z",
     "shell.execute_reply": "2024-09-11T20:35:36.354013Z"
    },
    "papermill": {
     "duration": 0.028156,
     "end_time": "2024-09-11T20:35:36.357519",
     "exception": false,
     "start_time": "2024-09-11T20:35:36.329363",
     "status": "completed"
    },
    "tags": []
   },
   "outputs": [
    {
     "data": {
      "text/plain": [
       "array([54.71185392, 22.61551294, 47.90314471, ..., 16.79341955,\n",
       "       63.34327368, 45.94262301])"
      ]
     },
     "execution_count": 17,
     "metadata": {},
     "output_type": "execute_result"
    }
   ],
   "source": [
    "y_lr_test_pred"
   ]
  },
  {
   "cell_type": "markdown",
   "id": "3b704b76",
   "metadata": {
    "papermill": {
     "duration": 0.014248,
     "end_time": "2024-09-11T20:35:36.386331",
     "exception": false,
     "start_time": "2024-09-11T20:35:36.372083",
     "status": "completed"
    },
    "tags": []
   },
   "source": [
    "## **Evaluate model performance**"
   ]
  },
  {
   "cell_type": "code",
   "execution_count": 18,
   "id": "5ae3e3d6",
   "metadata": {
    "execution": {
     "iopub.execute_input": "2024-09-11T20:35:36.417549Z",
     "iopub.status.busy": "2024-09-11T20:35:36.416609Z",
     "iopub.status.idle": "2024-09-11T20:35:36.426373Z",
     "shell.execute_reply": "2024-09-11T20:35:36.425093Z"
    },
    "papermill": {
     "duration": 0.028456,
     "end_time": "2024-09-11T20:35:36.429269",
     "exception": false,
     "start_time": "2024-09-11T20:35:36.400813",
     "status": "completed"
    },
    "tags": []
   },
   "outputs": [],
   "source": [
    "from sklearn.metrics import mean_squared_error, r2_score\n",
    "\n",
    "lr_train_mean = mean_squared_error(y_train,y_lr_train_pred)\n",
    "lr_train_r2 = r2_score(y_train,y_lr_train_pred)\n",
    "\n",
    "lr_test_mean = mean_squared_error(y_test, y_lr_test_pred)\n",
    "lr_test_r2 = r2_score(y_test, y_lr_test_pred)"
   ]
  },
  {
   "cell_type": "code",
   "execution_count": 19,
   "id": "e249e073",
   "metadata": {
    "execution": {
     "iopub.execute_input": "2024-09-11T20:35:36.460953Z",
     "iopub.status.busy": "2024-09-11T20:35:36.459972Z",
     "iopub.status.idle": "2024-09-11T20:35:36.466519Z",
     "shell.execute_reply": "2024-09-11T20:35:36.465301Z"
    },
    "papermill": {
     "duration": 0.024883,
     "end_time": "2024-09-11T20:35:36.469071",
     "exception": false,
     "start_time": "2024-09-11T20:35:36.444188",
     "status": "completed"
    },
    "tags": []
   },
   "outputs": [
    {
     "name": "stdout",
     "output_type": "stream",
     "text": [
      "LR Mean(Train): 4.169735849525007\n",
      "LR R2(Train): 0.9886898790682355\n",
      "LR Mean(Test): 4.082628398521853\n",
      "LR R2(Test): 0.9889832909573145\n"
     ]
    }
   ],
   "source": [
    "print('LR Mean(Train):' , lr_train_mean)\n",
    "print('LR R2(Train):' , lr_train_r2)\n",
    "print('LR Mean(Test):' , lr_test_mean)\n",
    "print('LR R2(Test):' , lr_test_r2)"
   ]
  },
  {
   "cell_type": "markdown",
   "id": "efd02b06",
   "metadata": {
    "papermill": {
     "duration": 0.014474,
     "end_time": "2024-09-11T20:35:36.498554",
     "exception": false,
     "start_time": "2024-09-11T20:35:36.484080",
     "status": "completed"
    },
    "tags": []
   },
   "source": [
    "## **Data Visualization of prediction results** "
   ]
  },
  {
   "cell_type": "code",
   "execution_count": 20,
   "id": "0cd45eb6",
   "metadata": {
    "execution": {
     "iopub.execute_input": "2024-09-11T20:35:36.530402Z",
     "iopub.status.busy": "2024-09-11T20:35:36.529989Z",
     "iopub.status.idle": "2024-09-11T20:35:36.806925Z",
     "shell.execute_reply": "2024-09-11T20:35:36.805793Z"
    },
    "papermill": {
     "duration": 0.296651,
     "end_time": "2024-09-11T20:35:36.809932",
     "exception": false,
     "start_time": "2024-09-11T20:35:36.513281",
     "status": "completed"
    },
    "tags": []
   },
   "outputs": [
    {
     "data": {
      "image/png": "[encoded data removed]",
      "text/plain": [
       "<Figure size 640x480 with 1 Axes>"
      ]
     },
     "metadata": {},
     "output_type": "display_data"
    }
   ],
   "source": [
    "import matplotlib.pyplot as plt\n",
    "import numpy as np\n",
    "\n",
    "plt.scatter(x = y_train, y = y_lr_train_pred, alpha = 0.3)\n",
    "\n",
    "coef = np.polyfit(y_train, y_lr_train_pred, 1)\n",
    "poly1d_fn = np.poly1d(coef)\n",
    "\n",
    "plt.plot(y_train, poly1d_fn(y_train), color='red', linewidth=2)\n",
    "\n",
    "plt.ylabel('Predict LogS')\n",
    "plt.xlabel('Experimental LogS')\n",
    "plt.show()"
   ]
  },
  {
   "cell_type": "markdown",
   "id": "08345f51",
   "metadata": {
    "papermill": {
     "duration": 0.015312,
     "end_time": "2024-09-11T20:35:36.841010",
     "exception": false,
     "start_time": "2024-09-11T20:35:36.825698",
     "status": "completed"
    },
    "tags": []
   },
   "source": [
    "**The scatter diagram above shows the following:**\n",
    "1. As actual values are increasing, predicted values are also increasing.\n",
    "2. There is a good correlation between predicted and actual values.\n",
    "3. The pedictive accuracy of the model is very good.\n"
   ]
  }
 ],
 "metadata": {
  "kaggle": {
   "accelerator": "none",
   "dataSources": [
    {
     "datasetId": 3462333,
     "sourceId": 6051848,
     "sourceType": "datasetVersion"
    }
   ],
   "dockerImageVersionId": 30746,
   "isGpuEnabled": false,
   "isInternetEnabled": false,
   "language": "python",
   "sourceType": "notebook"
  },
  "kernelspec": {
   "display_name": "Python 3",
   "language": "python",
   "name": "python3"
  },
  "language_info": {
   "codemirror_mode": {
    "name": "ipython",
    "version": 3
   },
   "file_extension": ".py",
   "mimetype": "text/x-python",
   "name": "python",
   "nbconvert_exporter": "python",
   "pygments_lexer": "ipython3",
   "version": "3.10.13"
  },
  "papermill": {
   "default_parameters": {},
   "duration": 9.116449,
   "end_time": "2024-09-11T20:35:37.478488",
   "environment_variables": {},
   "exception": null,
   "input_path": "__notebook__.ipynb",
   "output_path": "__notebook__.ipynb",
   "parameters": {},
   "start_time": "2024-09-11T20:35:28.362039",
   "version": "2.5.0"
  }
 },
 "nbformat": 4,
 "nbformat_minor": 5
}
