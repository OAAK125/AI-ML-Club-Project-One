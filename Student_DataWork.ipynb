{
  "metadata": {
    "kernelspec": {
      "language": "python",
      "display_name": "Python 3",
      "name": "python3"
    },
    "language_info": {
      "name": "python",
      "version": "3.10.13",
      "mimetype": "text/x-python",
      "codemirror_mode": {
        "name": "ipython",
        "version": 3
      },
      "pygments_lexer": "ipython3",
      "nbconvert_exporter": "python",
      "file_extension": ".py"
    },
    "kaggle": {
      "accelerator": "none",
      "dataSources": [
        {
          "sourceId": 6051848,
          "sourceType": "datasetVersion",
          "datasetId": 3462333
        }
      ],
      "dockerImageVersionId": 30746,
      "isInternetEnabled": false,
      "language": "python",
      "sourceType": "notebook",
      "isGpuEnabled": false
    },
    "colab": {
      "name": "Student_DataWork",
      "provenance": [],
      "include_colab_link": true
    }
  },
  "nbformat_minor": 0,
  "nbformat": 4,
  "cells": [
    {
      "cell_type": "markdown",
      "metadata": {
        "id": "view-in-github",
        "colab_type": "text"
      },
      "source": [
        "<a href=\"https://colab.research.google.com/github/OAAK125/AI-ML-Club-Project-One/blob/main/Student_DataWork.ipynb\" target=\"_parent\"><img src=\"https://colab.research.google.com/assets/colab-badge.svg\" alt=\"Open In Colab\"/></a>"
      ]
    },
    {
      "source": [
        "\n",
        "# IMPORTANT: RUN THIS CELL IN ORDER TO IMPORT YOUR KAGGLE DATA SOURCES\n",
        "# TO THE CORRECT LOCATION (/kaggle/input) IN YOUR NOTEBOOK,\n",
        "# THEN FEEL FREE TO DELETE THIS CELL.\n",
        "# NOTE: THIS NOTEBOOK ENVIRONMENT DIFFERS FROM KAGGLE'S PYTHON\n",
        "# ENVIRONMENT SO THERE MAY BE MISSING LIBRARIES USED BY YOUR\n",
        "# NOTEBOOK.\n",
        "\n",
        "import os\n",
        "import sys\n",
        "from tempfile import NamedTemporaryFile\n",
        "from urllib.request import urlopen\n",
        "from urllib.parse import unquote, urlparse\n",
        "from urllib.error import HTTPError\n",
        "from zipfile import ZipFile\n",
        "import tarfile\n",
        "import shutil\n",
        "\n",
        "CHUNK_SIZE = 40960\n",
        "DATA_SOURCE_MAPPING = 'student-performance-multiple-linear-regression:https%3A%2F%2Fstorage.googleapis.com%2Fkaggle-data-sets%2F3462333%2F6051848%2Fbundle%2Farchive.zip%3FX-Goog-Algorithm%3DGOOG4-RSA-SHA256%26X-Goog-Credential%3Dgcp-kaggle-com%2540kaggle-161607.iam.gserviceaccount.com%252F20240911%252Fauto%252Fstorage%252Fgoog4_request%26X-Goog-Date%3D20240911T202421Z%26X-Goog-Expires%3D259200%26X-Goog-SignedHeaders%3Dhost%26X-Goog-Signature%3D00e7a23a1bb7d4e98c2dbf1127e9b3826b580b07d64122d1cd937b3a23018701cb8ebd4690a40207000d29866214c022bec8b93193eac5b156fbad362c42fc12486c855cbaa260e1d4af3c753bd6d76f284f88e70c8613793f97992357c6cd84c6dda8bb7ac47eb2a5b1a724cc8ba0e219611544abe798f9ec94fab4054e152dd342527e805bc743312c9b15c4c970d00ede77883f3c77cdcf0bea75c8f7b88ee1c2627dea68345b902858e7b2f30e157c5045fc0f9f0bb3cc68d338e58e0489c63a6f7a08de8da9d0d67f3919686a090b883e0ebe42162cbf656029e6bec9ec0f147c231a4fe917cb4362c9012a2ca1895a0a820e515f5400517da55807be48'\n",
        "\n",
        "KAGGLE_INPUT_PATH='/kaggle/input'\n",
        "KAGGLE_WORKING_PATH='/kaggle/working'\n",
        "KAGGLE_SYMLINK='kaggle'\n",
        "\n",
        "!umount /kaggle/input/ 2> /dev/null\n",
        "shutil.rmtree('/kaggle/input', ignore_errors=True)\n",
        "os.makedirs(KAGGLE_INPUT_PATH, 0o777, exist_ok=True)\n",
        "os.makedirs(KAGGLE_WORKING_PATH, 0o777, exist_ok=True)\n",
        "\n",
        "try:\n",
        "  os.symlink(KAGGLE_INPUT_PATH, os.path.join(\"..\", 'input'), target_is_directory=True)\n",
        "except FileExistsError:\n",
        "  pass\n",
        "try:\n",
        "  os.symlink(KAGGLE_WORKING_PATH, os.path.join(\"..\", 'working'), target_is_directory=True)\n",
        "except FileExistsError:\n",
        "  pass\n",
        "\n",
        "for data_source_mapping in DATA_SOURCE_MAPPING.split(','):\n",
        "    directory, download_url_encoded = data_source_mapping.split(':')\n",
        "    download_url = unquote(download_url_encoded)\n",
        "    filename = urlparse(download_url).path\n",
        "    destination_path = os.path.join(KAGGLE_INPUT_PATH, directory)\n",
        "    try:\n",
        "        with urlopen(download_url) as fileres, NamedTemporaryFile() as tfile:\n",
        "            total_length = fileres.headers['content-length']\n",
        "            print(f'Downloading {directory}, {total_length} bytes compressed')\n",
        "            dl = 0\n",
        "            data = fileres.read(CHUNK_SIZE)\n",
        "            while len(data) > 0:\n",
        "                dl += len(data)\n",
        "                tfile.write(data)\n",
        "                done = int(50 * dl / int(total_length))\n",
        "                sys.stdout.write(f\"\\r[{'=' * done}{' ' * (50-done)}] {dl} bytes downloaded\")\n",
        "                sys.stdout.flush()\n",
        "                data = fileres.read(CHUNK_SIZE)\n",
        "            if filename.endswith('.zip'):\n",
        "              with ZipFile(tfile) as zfile:\n",
        "                zfile.extractall(destination_path)\n",
        "            else:\n",
        "              with tarfile.open(tfile.name) as tarfile:\n",
        "                tarfile.extractall(destination_path)\n",
        "            print(f'\\nDownloaded and uncompressed: {directory}')\n",
        "    except HTTPError as e:\n",
        "        print(f'Failed to load (likely expired) {download_url} to path {destination_path}')\n",
        "        continue\n",
        "    except OSError as e:\n",
        "        print(f'Failed to load {download_url} to path {destination_path}')\n",
        "        continue\n",
        "\n",
        "print('Data source import complete.')\n"
      ],
      "metadata": {
        "id": "G5zRGKfZwkb2"
      },
      "cell_type": "code",
      "outputs": [],
      "execution_count": null
    },
    {
      "cell_type": "code",
      "source": [
        "# This Python 3 environment comes with many helpful analytics libraries installed\n",
        "# It is defined by the kaggle/python Docker image: https://github.com/kaggle/docker-python\n",
        "# For example, here's several helpful packages to load\n",
        "\n",
        "import numpy as np # linear algebra\n",
        "import pandas as pd # data processing, CSV file I/O (e.g. pd.read_csv)\n",
        "\n",
        "# Input data files are available in the read-only \"../input/\" directory\n",
        "# For example, running this (by clicking run or pressing Shift+Enter) will list all files under the input directory\n",
        "\n",
        "import os\n",
        "for dirname, _, filenames in os.walk('/kaggle/input'):\n",
        "    for filename in filenames:\n",
        "        print(os.path.join(dirname, filename))\n",
        "\n",
        "# You can write up to 20GB to the current directory (/kaggle/working/) that gets preserved as output when you create a version using \"Save & Run All\"\n",
        "# You can also write temporary files to /kaggle/temp/, but they won't be saved outside of the current session"
      ],
      "metadata": {
        "_uuid": "8f2839f25d086af736a60e9eeb907d3b93b6e0e5",
        "_cell_guid": "b1076dfc-b9ad-4769-8c92-a6c4dae69d19",
        "execution": {
          "iopub.status.busy": "2024-09-06T18:36:53.701522Z",
          "iopub.execute_input": "2024-09-06T18:36:53.701887Z",
          "iopub.status.idle": "2024-09-06T18:36:55.063783Z",
          "shell.execute_reply.started": "2024-09-06T18:36:53.701858Z",
          "shell.execute_reply": "2024-09-06T18:36:55.062417Z"
        },
        "trusted": true,
        "id": "ioSqAYnPwkb-",
        "outputId": "2852683d-289f-4834-bb38-30abc7964677"
      },
      "execution_count": null,
      "outputs": [
        {
          "name": "stdout",
          "text": "/kaggle/input/student-performance-multiple-linear-regression/Student_Performance.csv\n",
          "output_type": "stream"
        }
      ]
    },
    {
      "cell_type": "markdown",
      "source": [
        "# **Read and load data**"
      ],
      "metadata": {
        "id": "E475sZXFwkcB"
      }
    },
    {
      "cell_type": "code",
      "source": [
        "df = pd.read_csv(\"/kaggle/input/student-performance-multiple-linear-regression/Student_Performance.csv\")\n",
        "df"
      ],
      "metadata": {
        "execution": {
          "iopub.status.busy": "2024-09-06T18:36:57.704857Z",
          "iopub.execute_input": "2024-09-06T18:36:57.705329Z",
          "iopub.status.idle": "2024-09-06T18:36:57.764602Z",
          "shell.execute_reply.started": "2024-09-06T18:36:57.705294Z",
          "shell.execute_reply": "2024-09-06T18:36:57.763274Z"
        },
        "trusted": true,
        "id": "IkSo5cwbwkcF",
        "outputId": "cfdf1978-a73c-4750-bb28-1d3a200a5292"
      },
      "execution_count": null,
      "outputs": [
        {
          "execution_count": 2,
          "output_type": "execute_result",
          "data": {
            "text/plain": "      Hours Studied  Previous Scores Extracurricular Activities  Sleep Hours  \\\n0                 7               99                        Yes            9   \n1                 4               82                         No            4   \n2                 8               51                        Yes            7   \n3                 5               52                        Yes            5   \n4                 7               75                         No            8   \n...             ...              ...                        ...          ...   \n9995              1               49                        Yes            4   \n9996              7               64                        Yes            8   \n9997              6               83                        Yes            8   \n9998              9               97                        Yes            7   \n9999              7               74                         No            8   \n\n      Sample Question Papers Practiced  Performance Index  \n0                                    1               91.0  \n1                                    2               65.0  \n2                                    2               45.0  \n3                                    2               36.0  \n4                                    5               66.0  \n...                                ...                ...  \n9995                                 2               23.0  \n9996                                 5               58.0  \n9997                                 5               74.0  \n9998                                 0               95.0  \n9999                                 1               64.0  \n\n[10000 rows x 6 columns]",
            "text/html": "<div>\n<style scoped>\n    .dataframe tbody tr th:only-of-type {\n        vertical-align: middle;\n    }\n\n    .dataframe tbody tr th {\n        vertical-align: top;\n    }\n\n    .dataframe thead th {\n        text-align: right;\n    }\n</style>\n<table border=\"1\" class=\"dataframe\">\n  <thead>\n    <tr style=\"text-align: right;\">\n      <th></th>\n      <th>Hours Studied</th>\n      <th>Previous Scores</th>\n      <th>Extracurricular Activities</th>\n      <th>Sleep Hours</th>\n      <th>Sample Question Papers Practiced</th>\n      <th>Performance Index</th>\n    </tr>\n  </thead>\n  <tbody>\n    <tr>\n      <th>0</th>\n      <td>7</td>\n      <td>99</td>\n      <td>Yes</td>\n      <td>9</td>\n      <td>1</td>\n      <td>91.0</td>\n    </tr>\n    <tr>\n      <th>1</th>\n      <td>4</td>\n      <td>82</td>\n      <td>No</td>\n      <td>4</td>\n      <td>2</td>\n      <td>65.0</td>\n    </tr>\n    <tr>\n      <th>2</th>\n      <td>8</td>\n      <td>51</td>\n      <td>Yes</td>\n      <td>7</td>\n      <td>2</td>\n      <td>45.0</td>\n    </tr>\n    <tr>\n      <th>3</th>\n      <td>5</td>\n      <td>52</td>\n      <td>Yes</td>\n      <td>5</td>\n      <td>2</td>\n      <td>36.0</td>\n    </tr>\n    <tr>\n      <th>4</th>\n      <td>7</td>\n      <td>75</td>\n      <td>No</td>\n      <td>8</td>\n      <td>5</td>\n      <td>66.0</td>\n    </tr>\n    <tr>\n      <th>...</th>\n      <td>...</td>\n      <td>...</td>\n      <td>...</td>\n      <td>...</td>\n      <td>...</td>\n      <td>...</td>\n    </tr>\n    <tr>\n      <th>9995</th>\n      <td>1</td>\n      <td>49</td>\n      <td>Yes</td>\n      <td>4</td>\n      <td>2</td>\n      <td>23.0</td>\n    </tr>\n    <tr>\n      <th>9996</th>\n      <td>7</td>\n      <td>64</td>\n      <td>Yes</td>\n      <td>8</td>\n      <td>5</td>\n      <td>58.0</td>\n    </tr>\n    <tr>\n      <th>9997</th>\n      <td>6</td>\n      <td>83</td>\n      <td>Yes</td>\n      <td>8</td>\n      <td>5</td>\n      <td>74.0</td>\n    </tr>\n    <tr>\n      <th>9998</th>\n      <td>9</td>\n      <td>97</td>\n      <td>Yes</td>\n      <td>7</td>\n      <td>0</td>\n      <td>95.0</td>\n    </tr>\n    <tr>\n      <th>9999</th>\n      <td>7</td>\n      <td>74</td>\n      <td>No</td>\n      <td>8</td>\n      <td>1</td>\n      <td>64.0</td>\n    </tr>\n  </tbody>\n</table>\n<p>10000 rows × 6 columns</p>\n</div>"
          },
          "metadata": {}
        }
      ]
    },
    {
      "cell_type": "markdown",
      "source": [
        "# **Describe the Data**"
      ],
      "metadata": {
        "id": "Q8neixh7wkcH"
      }
    },
    {
      "cell_type": "code",
      "source": [
        "df.describe()"
      ],
      "metadata": {
        "execution": {
          "iopub.status.busy": "2024-09-06T18:37:19.245242Z",
          "iopub.execute_input": "2024-09-06T18:37:19.246173Z",
          "iopub.status.idle": "2024-09-06T18:37:19.282634Z",
          "shell.execute_reply.started": "2024-09-06T18:37:19.246128Z",
          "shell.execute_reply": "2024-09-06T18:37:19.281279Z"
        },
        "trusted": true,
        "id": "Bn09NgTDwkcH",
        "outputId": "a3d9368f-e6f1-4698-c089-70253c0b5d25"
      },
      "execution_count": null,
      "outputs": [
        {
          "execution_count": 3,
          "output_type": "execute_result",
          "data": {
            "text/plain": "       Hours Studied  Previous Scores   Sleep Hours  \\\ncount   10000.000000     10000.000000  10000.000000   \nmean        4.992900        69.445700      6.530600   \nstd         2.589309        17.343152      1.695863   \nmin         1.000000        40.000000      4.000000   \n25%         3.000000        54.000000      5.000000   \n50%         5.000000        69.000000      7.000000   \n75%         7.000000        85.000000      8.000000   \nmax         9.000000        99.000000      9.000000   \n\n       Sample Question Papers Practiced  Performance Index  \ncount                      10000.000000       10000.000000  \nmean                           4.583300          55.224800  \nstd                            2.867348          19.212558  \nmin                            0.000000          10.000000  \n25%                            2.000000          40.000000  \n50%                            5.000000          55.000000  \n75%                            7.000000          71.000000  \nmax                            9.000000         100.000000  ",
            "text/html": "<div>\n<style scoped>\n    .dataframe tbody tr th:only-of-type {\n        vertical-align: middle;\n    }\n\n    .dataframe tbody tr th {\n        vertical-align: top;\n    }\n\n    .dataframe thead th {\n        text-align: right;\n    }\n</style>\n<table border=\"1\" class=\"dataframe\">\n  <thead>\n    <tr style=\"text-align: right;\">\n      <th></th>\n      <th>Hours Studied</th>\n      <th>Previous Scores</th>\n      <th>Sleep Hours</th>\n      <th>Sample Question Papers Practiced</th>\n      <th>Performance Index</th>\n    </tr>\n  </thead>\n  <tbody>\n    <tr>\n      <th>count</th>\n      <td>10000.000000</td>\n      <td>10000.000000</td>\n      <td>10000.000000</td>\n      <td>10000.000000</td>\n      <td>10000.000000</td>\n    </tr>\n    <tr>\n      <th>mean</th>\n      <td>4.992900</td>\n      <td>69.445700</td>\n      <td>6.530600</td>\n      <td>4.583300</td>\n      <td>55.224800</td>\n    </tr>\n    <tr>\n      <th>std</th>\n      <td>2.589309</td>\n      <td>17.343152</td>\n      <td>1.695863</td>\n      <td>2.867348</td>\n      <td>19.212558</td>\n    </tr>\n    <tr>\n      <th>min</th>\n      <td>1.000000</td>\n      <td>40.000000</td>\n      <td>4.000000</td>\n      <td>0.000000</td>\n      <td>10.000000</td>\n    </tr>\n    <tr>\n      <th>25%</th>\n      <td>3.000000</td>\n      <td>54.000000</td>\n      <td>5.000000</td>\n      <td>2.000000</td>\n      <td>40.000000</td>\n    </tr>\n    <tr>\n      <th>50%</th>\n      <td>5.000000</td>\n      <td>69.000000</td>\n      <td>7.000000</td>\n      <td>5.000000</td>\n      <td>55.000000</td>\n    </tr>\n    <tr>\n      <th>75%</th>\n      <td>7.000000</td>\n      <td>85.000000</td>\n      <td>8.000000</td>\n      <td>7.000000</td>\n      <td>71.000000</td>\n    </tr>\n    <tr>\n      <th>max</th>\n      <td>9.000000</td>\n      <td>99.000000</td>\n      <td>9.000000</td>\n      <td>9.000000</td>\n      <td>100.000000</td>\n    </tr>\n  </tbody>\n</table>\n</div>"
          },
          "metadata": {}
        }
      ]
    },
    {
      "cell_type": "markdown",
      "source": [
        "# **Check for missing values**"
      ],
      "metadata": {
        "id": "uxS2opu0wkcI"
      }
    },
    {
      "cell_type": "code",
      "source": [
        "missing_values_count = df.isnull().sum()\n",
        "missing_values_count[0:10]"
      ],
      "metadata": {
        "execution": {
          "iopub.status.busy": "2024-09-06T18:37:28.875282Z",
          "iopub.execute_input": "2024-09-06T18:37:28.875689Z",
          "iopub.status.idle": "2024-09-06T18:37:28.887062Z",
          "shell.execute_reply.started": "2024-09-06T18:37:28.875657Z",
          "shell.execute_reply": "2024-09-06T18:37:28.885574Z"
        },
        "trusted": true,
        "id": "N5UXJ4p6wkcJ",
        "outputId": "f9177d44-3184-4b4b-bcce-4c7de5e9c349"
      },
      "execution_count": null,
      "outputs": [
        {
          "execution_count": 4,
          "output_type": "execute_result",
          "data": {
            "text/plain": "Hours Studied                       0\nPrevious Scores                     0\nExtracurricular Activities          0\nSleep Hours                         0\nSample Question Papers Practiced    0\nPerformance Index                   0\ndtype: int64"
          },
          "metadata": {}
        }
      ]
    },
    {
      "cell_type": "markdown",
      "source": [
        "**Therefore, there are no missing values**"
      ],
      "metadata": {
        "id": "B0_ixF7iwkcK"
      }
    },
    {
      "cell_type": "markdown",
      "source": [
        "# **Data Visualization**"
      ],
      "metadata": {
        "id": "lW3QH3fPwkcL"
      }
    },
    {
      "cell_type": "code",
      "source": [
        "import matplotlib.pyplot as plt\n",
        "\n",
        "plt.scatter(df['Hours Studied'], df['Performance Index'])\n",
        "plt.xlabel('Hours Studied')\n",
        "plt.ylabel('Performance Index')\n",
        "plt.title('Hours Studied vs. Performance Index')"
      ],
      "metadata": {
        "execution": {
          "iopub.status.busy": "2024-09-06T18:38:27.446632Z",
          "iopub.execute_input": "2024-09-06T18:38:27.446994Z",
          "iopub.status.idle": "2024-09-06T18:38:27.844713Z",
          "shell.execute_reply.started": "2024-09-06T18:38:27.446963Z",
          "shell.execute_reply": "2024-09-06T18:38:27.843257Z"
        },
        "trusted": true,
        "id": "MulZLVWfwkcM",
        "outputId": "8e0f022c-c35b-45e2-869b-315fef2819b3"
      },
      "execution_count": null,
      "outputs": [
        {
          "execution_count": 5,
          "output_type": "execute_result",
          "data": {
            "text/plain": "Text(0.5, 1.0, 'Hours Studied vs. Performance Index')"
          },
          "metadata": {}
        },
        {
          "output_type": "display_data",
          "data": {
            "text/plain": "<Figure size 640x480 with 1 Axes>",
            "image/png": "[encoded data removed]"
          },
          "metadata": {}
        }
      ]
    },
    {
      "cell_type": "markdown",
      "source": [
        "**Inference:** As a student studies for more hours, they are more likely to perform better next time."
      ],
      "metadata": {
        "id": "XCGdpZndwkcM"
      }
    },
    {
      "cell_type": "markdown",
      "source": [
        "# **Data Preparation**"
      ],
      "metadata": {
        "id": "NNoPY62awkcM"
      }
    },
    {
      "cell_type": "markdown",
      "source": [
        "## **Convert categorical data to integer**"
      ],
      "metadata": {
        "id": "3a1pSuEwwkcN"
      }
    },
    {
      "cell_type": "code",
      "source": [
        "df['Extracurricular Activities'] = df['Extracurricular Activities'].map({'Yes': 1, 'No': 0})"
      ],
      "metadata": {
        "execution": {
          "iopub.status.busy": "2024-09-06T18:40:46.627447Z",
          "iopub.execute_input": "2024-09-06T18:40:46.62792Z",
          "iopub.status.idle": "2024-09-06T18:40:46.636713Z",
          "shell.execute_reply.started": "2024-09-06T18:40:46.627883Z",
          "shell.execute_reply": "2024-09-06T18:40:46.635143Z"
        },
        "trusted": true,
        "id": "y9RwzzDnwkcN"
      },
      "execution_count": null,
      "outputs": []
    },
    {
      "cell_type": "code",
      "source": [
        "df.head()"
      ],
      "metadata": {
        "execution": {
          "iopub.status.busy": "2024-09-06T18:41:02.972Z",
          "iopub.execute_input": "2024-09-06T18:41:02.972421Z",
          "iopub.status.idle": "2024-09-06T18:41:02.986319Z",
          "shell.execute_reply.started": "2024-09-06T18:41:02.972386Z",
          "shell.execute_reply": "2024-09-06T18:41:02.984761Z"
        },
        "trusted": true,
        "id": "XyPdwEpNwkcO",
        "outputId": "9fdc4674-3b75-4804-87c1-0c9b4474b45b"
      },
      "execution_count": null,
      "outputs": [
        {
          "execution_count": 9,
          "output_type": "execute_result",
          "data": {
            "text/plain": "   Hours Studied  Previous Scores  Extracurricular Activities  Sleep Hours  \\\n0              7               99                         NaN            9   \n1              4               82                         NaN            4   \n2              8               51                         NaN            7   \n3              5               52                         NaN            5   \n4              7               75                         NaN            8   \n\n   Sample Question Papers Practiced  Performance Index  \n0                                 1               91.0  \n1                                 2               65.0  \n2                                 2               45.0  \n3                                 2               36.0  \n4                                 5               66.0  ",
            "text/html": "<div>\n<style scoped>\n    .dataframe tbody tr th:only-of-type {\n        vertical-align: middle;\n    }\n\n    .dataframe tbody tr th {\n        vertical-align: top;\n    }\n\n    .dataframe thead th {\n        text-align: right;\n    }\n</style>\n<table border=\"1\" class=\"dataframe\">\n  <thead>\n    <tr style=\"text-align: right;\">\n      <th></th>\n      <th>Hours Studied</th>\n      <th>Previous Scores</th>\n      <th>Extracurricular Activities</th>\n      <th>Sleep Hours</th>\n      <th>Sample Question Papers Practiced</th>\n      <th>Performance Index</th>\n    </tr>\n  </thead>\n  <tbody>\n    <tr>\n      <th>0</th>\n      <td>7</td>\n      <td>99</td>\n      <td>NaN</td>\n      <td>9</td>\n      <td>1</td>\n      <td>91.0</td>\n    </tr>\n    <tr>\n      <th>1</th>\n      <td>4</td>\n      <td>82</td>\n      <td>NaN</td>\n      <td>4</td>\n      <td>2</td>\n      <td>65.0</td>\n    </tr>\n    <tr>\n      <th>2</th>\n      <td>8</td>\n      <td>51</td>\n      <td>NaN</td>\n      <td>7</td>\n      <td>2</td>\n      <td>45.0</td>\n    </tr>\n    <tr>\n      <th>3</th>\n      <td>5</td>\n      <td>52</td>\n      <td>NaN</td>\n      <td>5</td>\n      <td>2</td>\n      <td>36.0</td>\n    </tr>\n    <tr>\n      <th>4</th>\n      <td>7</td>\n      <td>75</td>\n      <td>NaN</td>\n      <td>8</td>\n      <td>5</td>\n      <td>66.0</td>\n    </tr>\n  </tbody>\n</table>\n</div>"
          },
          "metadata": {}
        }
      ]
    },
    {
      "cell_type": "markdown",
      "source": [
        "## **Define y: The Target Variable**"
      ],
      "metadata": {
        "id": "hoQZHWETwkcP"
      }
    },
    {
      "cell_type": "code",
      "source": [
        "y = df['Performance Index']\n",
        "y"
      ],
      "metadata": {
        "execution": {
          "iopub.status.busy": "2024-09-06T18:11:58.710727Z",
          "iopub.execute_input": "2024-09-06T18:11:58.711097Z",
          "iopub.status.idle": "2024-09-06T18:11:58.721818Z",
          "shell.execute_reply.started": "2024-09-06T18:11:58.711068Z",
          "shell.execute_reply": "2024-09-06T18:11:58.720617Z"
        },
        "trusted": true,
        "id": "hzfL8bFVwkcP"
      },
      "execution_count": null,
      "outputs": []
    },
    {
      "cell_type": "markdown",
      "source": [
        "## **Define x: The Input features**"
      ],
      "metadata": {
        "id": "dRc1Nfm2wkcP"
      }
    },
    {
      "cell_type": "code",
      "source": [
        "x = df.drop('Performance Index',axis = 1)\n",
        "#axis = 1 drops y in the column but axis = 0 drops in row\n",
        "\n",
        "x"
      ],
      "metadata": {
        "execution": {
          "iopub.status.busy": "2024-09-06T18:12:04.479842Z",
          "iopub.execute_input": "2024-09-06T18:12:04.480293Z",
          "iopub.status.idle": "2024-09-06T18:12:04.498628Z",
          "shell.execute_reply.started": "2024-09-06T18:12:04.480257Z",
          "shell.execute_reply": "2024-09-06T18:12:04.497358Z"
        },
        "trusted": true,
        "id": "NXd4HhG2wkcQ"
      },
      "execution_count": null,
      "outputs": []
    },
    {
      "cell_type": "markdown",
      "source": [
        "## **Data Splitting**"
      ],
      "metadata": {
        "id": "akMqB4DvwkcQ"
      }
    },
    {
      "cell_type": "code",
      "source": [
        "#spit to train/test set\n",
        "from sklearn.model_selection import train_test_split\n",
        "\n",
        "x_train, x_test, y_train, y_test = train_test_split(x, y, test_size=0.2, random_state=42)\n"
      ],
      "metadata": {
        "execution": {
          "iopub.status.busy": "2024-09-06T18:12:51.710063Z",
          "iopub.execute_input": "2024-09-06T18:12:51.710491Z",
          "iopub.status.idle": "2024-09-06T18:12:52.405999Z",
          "shell.execute_reply.started": "2024-09-06T18:12:51.71046Z",
          "shell.execute_reply": "2024-09-06T18:12:52.404936Z"
        },
        "trusted": true,
        "id": "l6euuwbKwkcQ"
      },
      "execution_count": null,
      "outputs": []
    },
    {
      "cell_type": "code",
      "source": [
        "x_train"
      ],
      "metadata": {
        "execution": {
          "iopub.status.busy": "2024-09-06T18:12:55.329381Z",
          "iopub.execute_input": "2024-09-06T18:12:55.33045Z",
          "iopub.status.idle": "2024-09-06T18:12:55.34785Z",
          "shell.execute_reply.started": "2024-09-06T18:12:55.330402Z",
          "shell.execute_reply": "2024-09-06T18:12:55.346392Z"
        },
        "trusted": true,
        "id": "5pZnyduOwkcR"
      },
      "execution_count": null,
      "outputs": []
    },
    {
      "cell_type": "code",
      "source": [
        "x_test"
      ],
      "metadata": {
        "execution": {
          "iopub.status.busy": "2024-09-06T18:13:01.364668Z",
          "iopub.execute_input": "2024-09-06T18:13:01.365118Z",
          "iopub.status.idle": "2024-09-06T18:13:01.380257Z",
          "shell.execute_reply.started": "2024-09-06T18:13:01.365083Z",
          "shell.execute_reply": "2024-09-06T18:13:01.378623Z"
        },
        "trusted": true,
        "id": "oDkPb2otwkcR"
      },
      "execution_count": null,
      "outputs": []
    },
    {
      "cell_type": "markdown",
      "source": [
        "# **Model Building**"
      ],
      "metadata": {
        "id": "tsMo57d6wkcR"
      }
    },
    {
      "cell_type": "markdown",
      "source": [
        "## **Linear Regression**"
      ],
      "metadata": {
        "id": "uB38ZgAwwkcR"
      }
    },
    {
      "cell_type": "code",
      "source": [
        "from sklearn.linear_model import LinearRegression"
      ],
      "metadata": {
        "execution": {
          "iopub.status.busy": "2024-09-06T18:13:07.114412Z",
          "iopub.execute_input": "2024-09-06T18:13:07.115803Z",
          "iopub.status.idle": "2024-09-06T18:13:07.325348Z",
          "shell.execute_reply.started": "2024-09-06T18:13:07.115745Z",
          "shell.execute_reply": "2024-09-06T18:13:07.324182Z"
        },
        "trusted": true,
        "id": "hgYQja09wkcS"
      },
      "execution_count": null,
      "outputs": []
    },
    {
      "cell_type": "markdown",
      "source": [
        "## **Training the model**"
      ],
      "metadata": {
        "id": "8vw9nNfDwkcS"
      }
    },
    {
      "cell_type": "code",
      "source": [
        "lr = LinearRegression()\n",
        "lr.fit(x_train, y_train)"
      ],
      "metadata": {
        "execution": {
          "iopub.status.busy": "2024-09-06T18:13:10.063065Z",
          "iopub.execute_input": "2024-09-06T18:13:10.063446Z",
          "iopub.status.idle": "2024-09-06T18:13:10.102681Z",
          "shell.execute_reply.started": "2024-09-06T18:13:10.063416Z",
          "shell.execute_reply": "2024-09-06T18:13:10.101376Z"
        },
        "trusted": true,
        "id": "9YJMNkOSwkcT"
      },
      "execution_count": null,
      "outputs": []
    },
    {
      "cell_type": "markdown",
      "source": [
        "## **Applying the model to make a prediction**"
      ],
      "metadata": {
        "id": "ZC2NJNJGwkcU"
      }
    },
    {
      "cell_type": "code",
      "source": [
        "y_lr_train_pred = lr.predict(x_train)\n",
        "y_lr_test_pred = lr.predict(x_test)"
      ],
      "metadata": {
        "execution": {
          "iopub.status.busy": "2024-09-06T18:13:19.095404Z",
          "iopub.execute_input": "2024-09-06T18:13:19.095836Z",
          "iopub.status.idle": "2024-09-06T18:13:19.119259Z",
          "shell.execute_reply.started": "2024-09-06T18:13:19.095794Z",
          "shell.execute_reply": "2024-09-06T18:13:19.117285Z"
        },
        "trusted": true,
        "id": "9yzZ-wMNwkcV"
      },
      "execution_count": null,
      "outputs": []
    },
    {
      "cell_type": "code",
      "source": [
        "y_lr_train_pred"
      ],
      "metadata": {
        "execution": {
          "iopub.status.busy": "2024-09-06T18:13:22.011313Z",
          "iopub.execute_input": "2024-09-06T18:13:22.011746Z",
          "iopub.status.idle": "2024-09-06T18:13:22.023031Z",
          "shell.execute_reply.started": "2024-09-06T18:13:22.011713Z",
          "shell.execute_reply": "2024-09-06T18:13:22.021615Z"
        },
        "trusted": true,
        "id": "MqLbfHYewkcW"
      },
      "execution_count": null,
      "outputs": []
    },
    {
      "cell_type": "code",
      "source": [
        "y_lr_test_pred"
      ],
      "metadata": {
        "execution": {
          "iopub.status.busy": "2024-09-06T18:13:25.203417Z",
          "iopub.execute_input": "2024-09-06T18:13:25.203944Z",
          "iopub.status.idle": "2024-09-06T18:13:25.212694Z",
          "shell.execute_reply.started": "2024-09-06T18:13:25.203845Z",
          "shell.execute_reply": "2024-09-06T18:13:25.211444Z"
        },
        "trusted": true,
        "id": "uuZIvKV3wkcW"
      },
      "execution_count": null,
      "outputs": []
    },
    {
      "cell_type": "markdown",
      "source": [
        "## **Evaluate model performance**"
      ],
      "metadata": {
        "id": "qAyiEG_ywkcX"
      }
    },
    {
      "cell_type": "code",
      "source": [
        "from sklearn.metrics import mean_squared_error, r2_score\n",
        "\n",
        "lr_train_mean = mean_squared_error(y_train,y_lr_train_pred)\n",
        "lr_train_r2 = r2_score(y_train,y_lr_train_pred)\n",
        "\n",
        "lr_test_mean = mean_squared_error(y_test, y_lr_test_pred)\n",
        "lr_test_r2 = r2_score(y_test, y_lr_test_pred)"
      ],
      "metadata": {
        "execution": {
          "iopub.status.busy": "2024-09-06T18:13:35.686405Z",
          "iopub.execute_input": "2024-09-06T18:13:35.686986Z",
          "iopub.status.idle": "2024-09-06T18:13:35.701638Z",
          "shell.execute_reply.started": "2024-09-06T18:13:35.686939Z",
          "shell.execute_reply": "2024-09-06T18:13:35.699947Z"
        },
        "trusted": true,
        "id": "E_3CT40DwkcX"
      },
      "execution_count": null,
      "outputs": []
    },
    {
      "cell_type": "code",
      "source": [
        "print('LR Mean(Train):' , lr_train_mean)\n",
        "print('LR R2(Train):' , lr_train_r2)\n",
        "print('LR Mean(Test):' , lr_test_mean)\n",
        "print('LR R2(Test):' , lr_test_r2)"
      ],
      "metadata": {
        "execution": {
          "iopub.status.busy": "2024-09-06T18:13:39.313602Z",
          "iopub.execute_input": "2024-09-06T18:13:39.314022Z",
          "iopub.status.idle": "2024-09-06T18:13:39.321978Z",
          "shell.execute_reply.started": "2024-09-06T18:13:39.313987Z",
          "shell.execute_reply": "2024-09-06T18:13:39.32049Z"
        },
        "trusted": true,
        "id": "qPdBJD6mwkcX"
      },
      "execution_count": null,
      "outputs": []
    },
    {
      "cell_type": "markdown",
      "source": [
        "## **Data Visualization of prediction results**"
      ],
      "metadata": {
        "id": "o8VUgXCJwkcZ"
      }
    },
    {
      "cell_type": "code",
      "source": [
        "import matplotlib.pyplot as plt\n",
        "import numpy as np\n",
        "\n",
        "plt.scatter(x = y_train, y = y_lr_train_pred, alpha = 0.3)\n",
        "\n",
        "coef = np.polyfit(y_train, y_lr_train_pred, 1)\n",
        "poly1d_fn = np.poly1d(coef)\n",
        "\n",
        "plt.plot(y_train, poly1d_fn(y_train), color='red', linewidth=2)\n",
        "\n",
        "plt.ylabel('Predict LogS')\n",
        "plt.xlabel('Experimental LogS')\n",
        "plt.show()"
      ],
      "metadata": {
        "execution": {
          "iopub.status.busy": "2024-09-06T18:14:16.487164Z",
          "iopub.execute_input": "2024-09-06T18:14:16.487602Z",
          "iopub.status.idle": "2024-09-06T18:14:16.77369Z",
          "shell.execute_reply.started": "2024-09-06T18:14:16.487544Z",
          "shell.execute_reply": "2024-09-06T18:14:16.77249Z"
        },
        "trusted": true,
        "id": "osUiHbPFwkcZ"
      },
      "execution_count": null,
      "outputs": []
    },
    {
      "cell_type": "markdown",
      "source": [
        "**The scatter diagram above shows the following:**\n",
        "1. As actual values are increasing, predicted values are also increasing.\n",
        "2. There is a good correlation between predicted and actual values.\n",
        "3. The pedictive accuracy of the model is very good.\n"
      ],
      "metadata": {
        "id": "W3hxqkcQwkca"
      }
    }
  ]
}